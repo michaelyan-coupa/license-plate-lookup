{
 "cells": [
  {
   "cell_type": "code",
   "execution_count": 1,
   "metadata": {},
   "outputs": [
    {
     "name": "stdout",
     "output_type": "stream",
     "text": [
      "2012 Toyota Sienna Limited / XLE\n"
     ]
    }
   ],
   "source": [
    "from selenium import webdriver\n",
    "from selenium.webdriver.common.keys import Keys\n",
    "from selenium.webdriver.support.ui import Select\n",
    "\n",
    "'''\n",
    "This function takes in arguments for the license plate number and state for a car \n",
    "and returns the model/make of the car. The function utilizes selenium and \n",
    "https://findbyplate.com/ to look up the car.\n",
    "'''\n",
    "def lookupLicensePlate(platenumber, state):\n",
    "    \n",
    "    webpage = r\"https://findbyplate.com/\" \n",
    "    driver = webdriver.Chrome('/Users/michaelyan/Desktop/license_lookup_project/chromedriver') #Replace with path to chromedriver\n",
    "    driver.get(webpage)\n",
    "\n",
    "    sbox = driver.find_element_by_name('platenumber')\n",
    "    sbox.send_keys(platenumber)\n",
    "    select = Select(driver.find_element_by_id('inputGroupSelect03'))\n",
    "    select.select_by_visible_text(state)\n",
    "\n",
    "    sbox.send_keys(Keys.RETURN); #Submit the search query\n",
    "\n",
    "    text = driver.find_element_by_class_name(\"vehicle-modal\").text\n",
    "    return text\n",
    "\n",
    "def main():\n",
    "  print(lookupLicensePlate(\"2LB117\", \"West Virginia\"))\n",
    "  \n",
    "if __name__== \"__main__\":\n",
    "  main()"
   ]
  },
  {
   "cell_type": "code",
   "execution_count": null,
   "metadata": {},
   "outputs": [],
   "source": []
  }
 ],
 "metadata": {
  "kernelspec": {
   "display_name": "Python 3",
   "language": "python",
   "name": "python3"
  },
  "language_info": {
   "codemirror_mode": {
    "name": "ipython",
    "version": 3
   },
   "file_extension": ".py",
   "mimetype": "text/x-python",
   "name": "python",
   "nbconvert_exporter": "python",
   "pygments_lexer": "ipython3",
   "version": "3.7.3"
  }
 },
 "nbformat": 4,
 "nbformat_minor": 2
}
